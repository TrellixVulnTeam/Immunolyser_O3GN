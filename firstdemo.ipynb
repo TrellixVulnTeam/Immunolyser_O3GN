{
 "cells": [
  {
   "cell_type": "code",
   "execution_count": 6,
   "metadata": {},
   "outputs": [],
   "source": [
    "import plotly.graph_objs as go\n",
    "import pandas as pd\n",
    "import numpy as np"
   ]
  },
  {
   "cell_type": "code",
   "execution_count": 3,
   "metadata": {},
   "outputs": [],
   "source": [
    "data = pd.read_csv('data/VMM1_1st_nil_DT9_peptide.csv')"
   ]
  },
  {
   "cell_type": "code",
   "execution_count": 18,
   "metadata": {},
   "outputs": [
    {
     "data": {
      "text/plain": [
       "Histogram({\n",
       "    'x': array([18, 13, 15, ...,  9,  9, 10], dtype=int64)\n",
       "})"
      ]
     },
     "execution_count": 18,
     "metadata": {},
     "output_type": "execute_result"
    }
   ],
   "source": [
    "x0 = data.Length\n",
    "\n",
    "go.Histogram(\n",
    "    x = x0\n",
    ")\n",
    "\n",
    "# fig.update_layout(\n",
    "#     title_text='Sampled Results', # title of plot\n",
    "#     xaxis_title_text='Value', # xaxis label\n",
    "#     yaxis_title_text='Count', # yaxis label\n",
    "#     bargap=0.2, # gap between bars of adjacent location coordinates\n",
    "#     bargroupgap=0.1 # gap between bars of the same location coordinates\n",
    "# )\n"
   ]
  }
 ],
 "metadata": {
  "kernelspec": {
   "display_name": "Python 3",
   "language": "python",
   "name": "python3"
  },
  "language_info": {
   "codemirror_mode": {
    "name": "ipython",
    "version": 3
   },
   "file_extension": ".py",
   "mimetype": "text/x-python",
   "name": "python",
   "nbconvert_exporter": "python",
   "pygments_lexer": "ipython3",
   "version": "3.7.7"
  }
 },
 "nbformat": 4,
 "nbformat_minor": 4
}
